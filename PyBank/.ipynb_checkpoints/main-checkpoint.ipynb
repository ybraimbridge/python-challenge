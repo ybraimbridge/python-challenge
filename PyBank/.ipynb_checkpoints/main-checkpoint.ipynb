{
 "cells": [
  {
   "cell_type": "raw",
   "id": "42904fde-fbad-4a13-ab17-761b29467320",
   "metadata": {},
   "source": [
    "* The total number of months included in the dataset.\n",
    "\n",
    "* The net total amount of Profit/Losses over the entire period.\n",
    "\n",
    "* The average of the changes in Profit/Losses over the entire period.\n",
    "\n",
    "* The greatest increase in profits (date and amount) over the entire period.\n",
    "\n",
    "* The greatest decrease in losses (date and amount) over the entire period."
   ]
  },
  {
   "cell_type": "code",
   "execution_count": 11,
   "id": "b12763a6-33ba-40fd-af07-4cff319de3d4",
   "metadata": {},
   "outputs": [],
   "source": [
    "from pathlib import Path\n",
    "import pandas as pd\n",
    "import csv\n",
    "import numpy as np\n"
   ]
  },
  {
   "cell_type": "code",
   "execution_count": 3,
   "id": "0d5dcb88-5c39-446a-88cc-f86284edad32",
   "metadata": {},
   "outputs": [],
   "source": [
    "csv_path = Path(\"./Resources/budget_data.csv\")"
   ]
  },
  {
   "cell_type": "code",
   "execution_count": 5,
   "id": "8b2c2d5d-419a-49e1-90e0-0c3f81def1b1",
   "metadata": {},
   "outputs": [],
   "source": [
    "df = pd.read_csv(csv_path)"
   ]
  },
  {
   "cell_type": "code",
   "execution_count": 6,
   "id": "de5d71f4-b306-4442-a609-377112858b51",
   "metadata": {},
   "outputs": [
    {
     "data": {
      "text/html": [
       "<div>\n",
       "<style scoped>\n",
       "    .dataframe tbody tr th:only-of-type {\n",
       "        vertical-align: middle;\n",
       "    }\n",
       "\n",
       "    .dataframe tbody tr th {\n",
       "        vertical-align: top;\n",
       "    }\n",
       "\n",
       "    .dataframe thead th {\n",
       "        text-align: right;\n",
       "    }\n",
       "</style>\n",
       "<table border=\"1\" class=\"dataframe\">\n",
       "  <thead>\n",
       "    <tr style=\"text-align: right;\">\n",
       "      <th></th>\n",
       "      <th>Date</th>\n",
       "      <th>Profit/Losses</th>\n",
       "    </tr>\n",
       "  </thead>\n",
       "  <tbody>\n",
       "    <tr>\n",
       "      <th>0</th>\n",
       "      <td>Jan-2010</td>\n",
       "      <td>867884</td>\n",
       "    </tr>\n",
       "    <tr>\n",
       "      <th>1</th>\n",
       "      <td>Feb-2010</td>\n",
       "      <td>984655</td>\n",
       "    </tr>\n",
       "    <tr>\n",
       "      <th>2</th>\n",
       "      <td>Mar-2010</td>\n",
       "      <td>322013</td>\n",
       "    </tr>\n",
       "    <tr>\n",
       "      <th>3</th>\n",
       "      <td>Apr-2010</td>\n",
       "      <td>-69417</td>\n",
       "    </tr>\n",
       "    <tr>\n",
       "      <th>4</th>\n",
       "      <td>May-2010</td>\n",
       "      <td>310503</td>\n",
       "    </tr>\n",
       "    <tr>\n",
       "      <th>...</th>\n",
       "      <td>...</td>\n",
       "      <td>...</td>\n",
       "    </tr>\n",
       "    <tr>\n",
       "      <th>81</th>\n",
       "      <td>Oct-2016</td>\n",
       "      <td>102685</td>\n",
       "    </tr>\n",
       "    <tr>\n",
       "      <th>82</th>\n",
       "      <td>Nov-2016</td>\n",
       "      <td>795914</td>\n",
       "    </tr>\n",
       "    <tr>\n",
       "      <th>83</th>\n",
       "      <td>Dec-2016</td>\n",
       "      <td>60988</td>\n",
       "    </tr>\n",
       "    <tr>\n",
       "      <th>84</th>\n",
       "      <td>Jan-2017</td>\n",
       "      <td>138230</td>\n",
       "    </tr>\n",
       "    <tr>\n",
       "      <th>85</th>\n",
       "      <td>Feb-2017</td>\n",
       "      <td>671099</td>\n",
       "    </tr>\n",
       "  </tbody>\n",
       "</table>\n",
       "<p>86 rows × 2 columns</p>\n",
       "</div>"
      ],
      "text/plain": [
       "        Date  Profit/Losses\n",
       "0   Jan-2010         867884\n",
       "1   Feb-2010         984655\n",
       "2   Mar-2010         322013\n",
       "3   Apr-2010         -69417\n",
       "4   May-2010         310503\n",
       "..       ...            ...\n",
       "81  Oct-2016         102685\n",
       "82  Nov-2016         795914\n",
       "83  Dec-2016          60988\n",
       "84  Jan-2017         138230\n",
       "85  Feb-2017         671099\n",
       "\n",
       "[86 rows x 2 columns]"
      ]
     },
     "execution_count": 6,
     "metadata": {},
     "output_type": "execute_result"
    }
   ],
   "source": [
    "df"
   ]
  },
  {
   "cell_type": "code",
   "execution_count": 7,
   "id": "e24c93ef-3fdc-4e60-98ed-efed0ee42de8",
   "metadata": {},
   "outputs": [],
   "source": [
    "# The total number of months included in the dataset.\n",
    "\n",
    "total_months = len(df)"
   ]
  },
  {
   "cell_type": "code",
   "execution_count": 9,
   "id": "00e9e4f7-077a-4b52-8227-748fbfaf6128",
   "metadata": {},
   "outputs": [
    {
     "data": {
      "text/plain": [
       "38382578"
      ]
     },
     "execution_count": 9,
     "metadata": {},
     "output_type": "execute_result"
    }
   ],
   "source": [
    "# The net total amount of Profit/Losses over the entire period.\n",
    "\n",
    "total_profit_losses = df['Profit/Losses'].sum()\n",
    "total_profit_losses "
   ]
  },
  {
   "cell_type": "code",
   "execution_count": 12,
   "id": "b584357f-1849-490e-9c00-a5171e47a56b",
   "metadata": {},
   "outputs": [],
   "source": [
    "# The average of the changes in Profit/Losses over the entire period.\n",
    "\n",
    "difference = np.diff(df['Profit/Losses']).mean()"
   ]
  },
  {
   "cell_type": "code",
   "execution_count": 13,
   "id": "8723c71e-c30b-43aa-8200-5a75917b2fae",
   "metadata": {},
   "outputs": [],
   "source": [
    "# The greatest increase in profits (date and amount) over the entire period.\n",
    "\n",
    "greatest_largest = df.nlargest(1,'Profit/Losses')"
   ]
  },
  {
   "cell_type": "code",
   "execution_count": 14,
   "id": "6a25f2fa-f840-485b-8326-e7a60134e2c3",
   "metadata": {},
   "outputs": [],
   "source": [
    "# The greatest decrease in losses (date and amount) over the entire period\n",
    "\n",
    "greatest_decrease = df.nsmallest(1,'Profit/Losses')"
   ]
  },
  {
   "cell_type": "code",
   "execution_count": 15,
   "id": "e1aa78c2-6e5b-47c3-a66d-f89f51ae2329",
   "metadata": {},
   "outputs": [
    {
     "name": "stdout",
     "output_type": "stream",
     "text": [
      "Financial Analysis 1\n",
      "----------------------------\n",
      "Total months: 86\n",
      "Total profit loss: 38382578\n",
      "difference: -2315.1176470588234\n",
      "greatest largest:         Date  Profit/Losses\n",
      "25  Feb-2012        1170593\n",
      "greatest_decrease:         Date  Profit/Losses\n",
      "44  Sep-2013       -1196225\n"
     ]
    }
   ],
   "source": [
    "print(\"Financial Analysis 1\")\n",
    "print(\"----------------------------\")\n",
    "print(\"Total months:\",total_months)\n",
    "print(\"Total profit loss:\",total_profit_losses)\n",
    "print(\"difference:\",difference)\n",
    "print(\"greatest largest:\",greatest_largest)\n",
    "print(\"greatest_decrease:\",greatest_decrease)"
   ]
  },
  {
   "cell_type": "code",
   "execution_count": null,
   "id": "3fa44780-a24e-46e5-922b-fa17265a25c3",
   "metadata": {},
   "outputs": [],
   "source": []
  }
 ],
 "metadata": {
  "kernelspec": {
   "display_name": "Python 3 (ipykernel)",
   "language": "python",
   "name": "python3"
  },
  "language_info": {
   "codemirror_mode": {
    "name": "ipython",
    "version": 3
   },
   "file_extension": ".py",
   "mimetype": "text/x-python",
   "name": "python",
   "nbconvert_exporter": "python",
   "pygments_lexer": "ipython3",
   "version": "3.9.12"
  }
 },
 "nbformat": 4,
 "nbformat_minor": 5
}
